{
 "cells": [
  {
   "cell_type": "markdown",
   "metadata": {},
   "source": [
    "# Failed `zarr` conversion on KIT server\n",
    "\n",
    "This notebook exists to document the failed attempts to convert the TRACMIP datasets to `zarr` from our local machine. For reasons most likely tied to the limited amount of resources on this machine (which is intended only for uploading and downloading of data), attempting to run this script led to either `MemoryErrors`, dead workers or both."
   ]
  },
  {
   "cell_type": "code",
   "execution_count": null,
   "metadata": {},
   "outputs": [],
   "source": [
    "import xarray as xr\n",
    "from glob import glob"
   ]
  },
  {
   "cell_type": "code",
   "execution_count": null,
   "metadata": {},
   "outputs": [],
   "source": [
    "times       = ['Aday', 'Amon', 'A3hr']\n",
    "models      = ['GISS-ModelE2', 'MetUM-CTL', 'CAM5Nor', 'CAM3', 'CNRM-AM5', 'AM21', 'ECHAM61',\n",
    "               'MetUM-ENT', 'MPAS', 'LMDZ5A', 'ECHAM63', 'CALTECH', 'MIROC5', 'CAM4']\n",
    "experiments = ['aquaControl', 'aqua4xCO2', 'aquaAbs20', 'aquaAbs07', 'land4xCO2', 'landAbs20',\n",
    "               'landAbs15', 'landOrbit', 'aquaAbs15', 'landControl', 'landAbs07']"
   ]
  },
  {
   "cell_type": "code",
   "execution_count": null,
   "metadata": {},
   "outputs": [],
   "source": [
    "from dask.distributed import Client\n",
    "\n",
    "client = Client()\n",
    "client"
   ]
  },
  {
   "cell_type": "code",
   "execution_count": null,
   "metadata": {},
   "outputs": [],
   "source": [
    "# get the models that are completed\n",
    "with open(\"uploaded_models.txt\", \"r\") as f:\n",
    "    uploaded = [i.rstrip(\"\\n\") for i in f.readlines()]\n",
    "\n",
    "for time in times:\n",
    "\n",
    "    for mod in models:\n",
    "\n",
    "        for exp in experiments:\n",
    "\n",
    "            paths = glob(\"/lsdf/kit/imk-tro/projects/MOD/Gruppe_Voigt/TRACMIP_ESGFCOPY/*/%s/%s*/%s/*/*/*/*/*/*\" \n",
    "                         % (mod, exp, time.lstrip(\"A\")))\n",
    "            for version in set([i.split(\"/\")[-2] for i in paths]):\n",
    "\n",
    "                # check that models not yet uploaded\n",
    "                name = \"%s_%s_%s_%s\" % (time, exp, mod, version)\n",
    "                if name not in uploaded:\n",
    "\n",
    "                    print(\"attempting to upload %s\" % name)\n",
    "\n",
    "                    ver_paths = [i for i in paths if version in i]\n",
    "\n",
    "                    merged = xr.open_dataset(ver_paths[0], chunks={})\n",
    "\n",
    "                    for path in ver_paths:\n",
    "\n",
    "                        print(\"    opening %s dataset\" % path.split(\"/\")[-1].split(\"_\")[0])\n",
    "\n",
    "                        # flatten height coordinate\n",
    "                        ds = xr.open_dataset(path)\n",
    "                        var = [i for i in ds.data_vars if \"bnds\" not in i][0]\n",
    "                        if \"height\" in ds.coords:\n",
    "                            ds[var].attrs[\"height\"] = \"%s %s\" % (ds.height.values, ds.height.units)\n",
    "                        merged[var] = ds[var].chunk({\"time\" : \"auto\"})\n",
    "\n",
    "                    # remember to drop height from overall dataset!\n",
    "                    if \"height\" in merged.coords:\n",
    "                        merged = merged.drop(\"height\")\n",
    "\n",
    "\n",
    "                    print(\"    converting to zarr\")\n",
    "\n",
    "                    # convert to zarr and upload\n",
    "                    merged.to_zarr(\"temp\", mode=\"w\", consolidated=True)\n",
    "                    system(\"gsutil -m cp -r temp/* gs://pangeo-data/tracmip/%s/%s/%s/%s/\" % (time, exp, mod, version))\n",
    "                    system(\"rm -rf temp\")\n",
    "\n",
    "                    # mark as uploaded\n",
    "                    with open(\"uploaded_models.txt\", \"a\") as f:\n",
    "                        f.write(\"%s\\n\" % name)             \n",
    "                        "
   ]
  },
  {
   "cell_type": "code",
   "execution_count": null,
   "metadata": {},
   "outputs": [],
   "source": []
  }
 ],
 "metadata": {
  "kernelspec": {
   "display_name": "Python 3",
   "language": "python",
   "name": "python3"
  },
  "language_info": {
   "codemirror_mode": {
    "name": "ipython",
    "version": 3
   },
   "file_extension": ".py",
   "mimetype": "text/x-python",
   "name": "python",
   "nbconvert_exporter": "python",
   "pygments_lexer": "ipython3",
   "version": "3.7.3"
  }
 },
 "nbformat": 4,
 "nbformat_minor": 4
}

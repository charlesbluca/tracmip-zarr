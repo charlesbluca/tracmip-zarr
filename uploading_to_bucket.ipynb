{
 "cells": [
  {
   "cell_type": "markdown",
   "metadata": {},
   "source": [
    "# Uploading data to `pangeo-data` bucket\n",
    "\n",
    "Example upload of `zarr` dataset to Pangeo bucket in Google Cloud\n",
    "\n",
    "Author: Charles Blackmon-Luca"
   ]
  },
  {
   "cell_type": "markdown",
   "metadata": {},
   "source": [
    "## Getting started\n",
    "\n",
    "We start by importing the necessary packages:"
   ]
  },
  {
   "cell_type": "code",
   "execution_count": 1,
   "metadata": {},
   "outputs": [],
   "source": [
    "import xarray as xr"
   ]
  },
  {
   "cell_type": "markdown",
   "metadata": {},
   "source": [
    "Note that we are using developmental versions of `xarray`:"
   ]
  },
  {
   "cell_type": "code",
   "execution_count": 2,
   "metadata": {},
   "outputs": [
    {
     "name": "stdout",
     "output_type": "stream",
     "text": [
      "0.11.1+64.g612d390\n"
     ]
    }
   ],
   "source": [
    "print(xr.__version__)"
   ]
  },
  {
   "cell_type": "markdown",
   "metadata": {},
   "source": [
    "We start a `dask` cluster:"
   ]
  },
  {
   "cell_type": "code",
   "execution_count": 3,
   "metadata": {},
   "outputs": [
    {
     "data": {
      "text/html": [
       "<table style=\"border: 2px solid white;\">\n",
       "<tr>\n",
       "<td style=\"vertical-align: top; border: 0px solid white\">\n",
       "<h3>Client</h3>\n",
       "<ul>\n",
       "  <li><b>Scheduler: </b>tcp://127.0.0.1:37511\n",
       "  <li><b>Dashboard: </b><a href='http://127.0.0.1:8787/status' target='_blank'>http://127.0.0.1:8787/status</a>\n",
       "</ul>\n",
       "</td>\n",
       "<td style=\"vertical-align: top; border: 0px solid white\">\n",
       "<h3>Cluster</h3>\n",
       "<ul>\n",
       "  <li><b>Workers: </b>4</li>\n",
       "  <li><b>Cores: </b>16</li>\n",
       "  <li><b>Memory: </b>135.44 GB</li>\n",
       "</ul>\n",
       "</td>\n",
       "</tr>\n",
       "</table>"
      ],
      "text/plain": [
       "<Client: scheduler='tcp://127.0.0.1:37511' processes=4 cores=16>"
      ]
     },
     "execution_count": 3,
     "metadata": {},
     "output_type": "execute_result"
    }
   ],
   "source": [
    "from dask.distributed import Client\n",
    "\n",
    "client = Client(\"tcp://127.0.0.1:37511\")\n",
    "client"
   ]
  },
  {
   "cell_type": "markdown",
   "metadata": {},
   "source": [
    "## Google Cloud Authentication\n",
    "\n",
    "Once we have converted a netCDF4 dataset to `zarr`, we want to upload it to the Pangeo cloud bucket located at `gs://pangeo-data/`. First we generate a sample `zarr` dataset:"
   ]
  },
  {
   "cell_type": "code",
   "execution_count": 6,
   "metadata": {},
   "outputs": [
    {
     "name": "stdout",
     "output_type": "stream",
     "text": [
      "cl     clwvi\thus   prc   rlds    rsds    rsut     tauu  uas\n",
      "cli    evspsbl\tlat   prsn  rldscs  rsdscs  rsutcs   tauv  va\n",
      "clivi  hfls\tlon   prw   rlus    rsdt    sfcWind  time  vas\n",
      "clt    hfss\tplev  ps    rlut    rsus    ta\t     ts    wap\n",
      "clw    hur\tpr    psl   rlutcs  rsuscs  tas      ua    zg\n"
     ]
    }
   ],
   "source": [
    "!rm -rf /data2/tracmip/zarr/test/\n",
    "\n",
    "monthly = xr.open_mfdataset('/data2/tracmip/ECHAM-6.3/LandOrbit/Amon/*.nc').chunk(chunks={'time' : 'auto', 'plev' : 'auto'})\n",
    "monthly.to_zarr('/data2/tracmip/zarr/test/', consolidated=True)\n",
    "\n",
    "!ls /data2/tracmip/zarr/test/"
   ]
  },
  {
   "cell_type": "markdown",
   "metadata": {},
   "source": [
    "Once we have our `zarr` dataset, we must get our Google Cloud credentials by running the following in the terminal:\n",
    "```bash\n",
    "gcloud auth login\n",
    "```\n",
    "This will direct us to a login, which will then provide the verification code we need to recieve credentials. Once this is done, we can upload our data to `gs://pangeo-data`:"
   ]
  },
  {
   "cell_type": "code",
   "execution_count": null,
   "metadata": {},
   "outputs": [],
   "source": [
    "!gsutil -m cp -r /data2/tracmip/zarr/test/ gs://pangeo-data/"
   ]
  },
  {
   "cell_type": "markdown",
   "metadata": {},
   "source": [
    "This process can take some time, and depending on the size of the data it may be advantageous to run the process in the background."
   ]
  }
 ],
 "metadata": {
  "kernelspec": {
   "display_name": "Python 3",
   "language": "python",
   "name": "python3"
  },
  "language_info": {
   "codemirror_mode": {
    "name": "ipython",
    "version": 3
   },
   "file_extension": ".py",
   "mimetype": "text/x-python",
   "name": "python",
   "nbconvert_exporter": "python",
   "pygments_lexer": "ipython3",
   "version": "3.7.2"
  }
 },
 "nbformat": 4,
 "nbformat_minor": 2
}

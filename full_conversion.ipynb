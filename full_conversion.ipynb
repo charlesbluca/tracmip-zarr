{
 "cells": [
  {
   "cell_type": "markdown",
   "metadata": {},
   "source": [
    "# Full conversion of ECHAM-6.3 / LandControl and LandOrbit to `zarr`\n",
    "\n",
    "Outlining the process of converting one model/experiment pairing to `zarr` for upload to `pangeo-data`\n",
    "\n",
    "Author: Charles Blackmon-Luca"
   ]
  },
  {
   "cell_type": "markdown",
   "metadata": {},
   "source": [
    "# Getting started\n",
    "\n",
    "Import necessry packages:"
   ]
  },
  {
   "cell_type": "code",
   "execution_count": 1,
   "metadata": {},
   "outputs": [
    {
     "name": "stdout",
     "output_type": "stream",
     "text": [
      "0.11.1+64.g612d390\n",
      "2.2.1.dev140\n"
     ]
    }
   ],
   "source": [
    "import xarray as xr\n",
    "import zarr\n",
    "\n",
    "print(xr.__version__)\n",
    "print(zarr.__version__)"
   ]
  },
  {
   "cell_type": "markdown",
   "metadata": {},
   "source": [
    "Start `dask` client:"
   ]
  },
  {
   "cell_type": "code",
   "execution_count": 2,
   "metadata": {},
   "outputs": [
    {
     "data": {
      "text/html": [
       "<table style=\"border: 2px solid white;\">\n",
       "<tr>\n",
       "<td style=\"vertical-align: top; border: 0px solid white\">\n",
       "<h3>Client</h3>\n",
       "<ul>\n",
       "  <li><b>Scheduler: </b>tcp://127.0.0.1:44388\n",
       "  <li><b>Dashboard: </b><a href='http://127.0.0.1:8787/status' target='_blank'>http://127.0.0.1:8787/status</a>\n",
       "</ul>\n",
       "</td>\n",
       "<td style=\"vertical-align: top; border: 0px solid white\">\n",
       "<h3>Cluster</h3>\n",
       "<ul>\n",
       "  <li><b>Workers: </b>4</li>\n",
       "  <li><b>Cores: </b>16</li>\n",
       "  <li><b>Memory: </b>135.44 GB</li>\n",
       "</ul>\n",
       "</td>\n",
       "</tr>\n",
       "</table>"
      ],
      "text/plain": [
       "<Client: scheduler='tcp://127.0.0.1:44388' processes=4 cores=16>"
      ]
     },
     "execution_count": 2,
     "metadata": {},
     "output_type": "execute_result"
    }
   ],
   "source": [
    "from dask.distributed import Client\n",
    "\n",
    "client = Client(\"tcp://127.0.0.1:44388\")\n",
    "client"
   ]
  },
  {
   "cell_type": "markdown",
   "metadata": {},
   "source": [
    "Establish a compressor - typically Pangeo uses `zstd`:"
   ]
  },
  {
   "cell_type": "code",
   "execution_count": 3,
   "metadata": {},
   "outputs": [],
   "source": [
    "compressor = zarr.Blosc(cname='zstd', clevel=3, shuffle=2)"
   ]
  },
  {
   "cell_type": "markdown",
   "metadata": {},
   "source": [
    "Load and save data for LandOrbit and LandControl:"
   ]
  },
  {
   "cell_type": "code",
   "execution_count": 5,
   "metadata": {},
   "outputs": [],
   "source": [
    "for s in ['LandOrbit', 'LandControl']:\n",
    "\n",
    "    monthly = xr.open_mfdataset('/data2/tracmip/ECHAM-6.3/%s/Amon/*.nc' % s,\n",
    "                                chunks={'time' : 'auto'}, parallel=True)\n",
    "    monthly.to_zarr('/data2/tracmip/tracmip/%s/ECHAM-6.3/monthly' % s,\n",
    "                    encoding={var : {'compressor' : compressor} for var in monthly.data_vars},\n",
    "                    consolidated=True,\n",
    "                    mode='w')"
   ]
  },
  {
   "cell_type": "markdown",
   "metadata": {},
   "source": [
    "Daily data:"
   ]
  },
  {
   "cell_type": "code",
   "execution_count": 6,
   "metadata": {},
   "outputs": [],
   "source": [
    "for s in ['LandOrbit', 'LandControl']:\n",
    "\n",
    "    daily = xr.open_mfdataset('/data2/tracmip/ECHAM-6.3/%s/Aday/*.nc' % s,\n",
    "                              chunks={'time' : 'auto'}, parallel=True)\n",
    "    daily.to_zarr('/data2/tracmip/tracmip/%s/ECHAM-6.3/daily' % s,\n",
    "                  encoding={var : {'compressor' : compressor} for var in daily.data_vars},\n",
    "                  consolidated=True,\n",
    "                  mode='w')"
   ]
  },
  {
   "cell_type": "markdown",
   "metadata": {},
   "source": [
    "3-hourly data:"
   ]
  },
  {
   "cell_type": "code",
   "execution_count": 8,
   "metadata": {},
   "outputs": [
    {
     "data": {
      "text/plain": [
       "<xarray.backends.zarr.ZarrStore at 0x7fab818a9860>"
      ]
     },
     "execution_count": 8,
     "metadata": {},
     "output_type": "execute_result"
    }
   ],
   "source": [
    "for s in ['LandOrbit', 'LandControl']:\n",
    "\n",
    "    hourly = xr.open_mfdataset('/data2/tracmip/ECHAM-6.3/%s/A3hr/*.nc' % s,\n",
    "                               chunks={'time' : 'auto'}, parallel=True)\n",
    "    hourly.to_zarr('/data2/tracmip/tracmip/%s/ECHAM-6.3/3hourly' % s,\n",
    "                   encoding={var : {'compressor' : compressor} for var in hourly.data_vars},\n",
    "                   consolidated=True,\n",
    "                   mode='w')"
   ]
  },
  {
   "cell_type": "markdown",
   "metadata": {},
   "source": [
    "Once this data is loaded in `zarr` format, we can upload to the Google Cloud bucket at `gs://pangeo-data/`."
   ]
  }
 ],
 "metadata": {
  "kernelspec": {
   "display_name": "Python 3",
   "language": "python",
   "name": "python3"
  },
  "language_info": {
   "codemirror_mode": {
    "name": "ipython",
    "version": 3
   },
   "file_extension": ".py",
   "mimetype": "text/x-python",
   "name": "python",
   "nbconvert_exporter": "python",
   "pygments_lexer": "ipython3",
   "version": "3.7.2"
  }
 },
 "nbformat": 4,
 "nbformat_minor": 2
}

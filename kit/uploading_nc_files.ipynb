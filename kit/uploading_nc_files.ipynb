{
 "cells": [
  {
   "cell_type": "markdown",
   "metadata": {},
   "source": [
    "# Uploading `nc` files to Google Cloud Storage\n",
    "\n",
    "Due to the limited resources of the machine the TRACMIP dataset is stored on, we cannot perform the `zarr` conversion on this machine. Instead, we will upload the original `nc` files to the GCS bucket, where they can be accessed from a different machine at Lamont that can perform the conversion.\n",
    "\n",
    "Making sure we have Google Cloud SDK installed, we get our user credentials:"
   ]
  },
  {
   "cell_type": "code",
   "execution_count": null,
   "metadata": {},
   "outputs": [],
   "source": [
    "!gcloud auth login"
   ]
  },
  {
   "cell_type": "markdown",
   "metadata": {},
   "source": [
    "Having done this, we now can now organize and upload each dataset - while on this machine the `nc` files are decentralized across several nested directories, we will find it more useful to have them grouped by model/experiment/timestep. We can do this using glob patterns, which we will use to gather all the datasets which need to be uploaded:"
   ]
  },
  {
   "cell_type": "code",
   "execution_count": null,
   "metadata": {},
   "outputs": [],
   "source": [
    "from glob import glob\n",
    "\n",
    "paths = []\n",
    "\n",
    "times       = ['Amon', 'Aday', 'A3hr']\n",
    "models      = ['GISS-ModelE2', 'MetUM-CTL', 'CAM5Nor', 'CAM3', 'CNRM-AM5', 'AM21', 'ECHAM61',\n",
    "               'MetUM-ENT', 'MPAS', 'LMDZ5A', 'ECHAM63', 'CALTECH', 'MIROC5', 'CAM4']\n",
    "experiments = ['aquaControl', 'aqua4xCO2', 'aquaAbs20', 'aquaAbs07', 'land4xCO2', 'landAbs20',\n",
    "               'landAbs15', 'landOrbit', 'aquaAbs15', 'landControl', 'landAbs07']\n",
    "versions    = ['v20180423', 'v20181025', 'v20190129', 'v20181024', 'v20190131', 'v20190305',\n",
    "               'v20190116', 'v20190507', 'v20190408', 'v20190114', 'v20190409']\n",
    "\n",
    "for time in times:\n",
    "\n",
    "    for mod in models:\n",
    "\n",
    "        for exp in experiments:\n",
    "\n",
    "            for ver in versions:\n",
    "                path = \"/lsdf/kit/imk-tro/projects/MOD/Gruppe_Voigt/TRACMIP_ESGFCOPY/*/%s/%s*/*/*/%s/*/*/%s/*\" % (mod, exp, time, ver)\n",
    "                if glob(path):\n",
    "                    paths.append(path)\n",
    "                    \n",
    "len(paths)"
   ]
  },
  {
   "cell_type": "markdown",
   "metadata": {},
   "source": [
    "There are 206 datasets which must be uploaded, making up some 8.8 terabytes! To manage this uploading and account for potential failures, we wil save our dataset glob paths to a JSON file, where we can keep track of their uploaded status:"
   ]
  },
  {
   "cell_type": "code",
   "execution_count": null,
   "metadata": {},
   "outputs": [],
   "source": [
    "import json\n",
    "\n",
    "with open(\"uploaded.json\", \"w\") as f:\n",
    "    json.dump({path : False for path in paths}, f)"
   ]
  },
  {
   "cell_type": "markdown",
   "metadata": {},
   "source": [
    "With this done, we can freely start a long running script to upload all of the data to the GCS bucket, checking periodically to see if it has stalled:"
   ]
  },
  {
   "cell_type": "code",
   "execution_count": null,
   "metadata": {},
   "outputs": [],
   "source": [
    "with open(\"uploaded.json\", \"r\") as f:\n",
    "    d = json.load(f)\n",
    "\n",
    "for path in d:\n",
    "\n",
    "    if not d[path]:\n",
    "\n",
    "        time = path.split(\"/\")[13]\n",
    "        exp = path.split(\"/\")[10].rstrip(\"*\")\n",
    "        model = path.split(\"/\")[9]\n",
    "        version = path.split(\"/\")[-2]\n",
    "\n",
    "        print(time, exp, model, version)\n",
    "        \n",
    "        !gsutil -m cp -r {path} gs://pangeo-data/tracmip_temp/{time}/{exp}/{model}/{version}/\n",
    "        \n",
    "        d[path] = True\n",
    "        with open(\"fixed.json\", \"w\") as f:\n",
    "            json.dump(d, f)"
   ]
  },
  {
   "cell_type": "code",
   "execution_count": null,
   "metadata": {},
   "outputs": [],
   "source": []
  }
 ],
 "metadata": {
  "kernelspec": {
   "display_name": "Python 3",
   "language": "python",
   "name": "python3"
  },
  "language_info": {
   "codemirror_mode": {
    "name": "ipython",
    "version": 3
   },
   "file_extension": ".py",
   "mimetype": "text/x-python",
   "name": "python",
   "nbconvert_exporter": "python",
   "pygments_lexer": "ipython3",
   "version": "3.7.3"
  }
 },
 "nbformat": 4,
 "nbformat_minor": 4
}

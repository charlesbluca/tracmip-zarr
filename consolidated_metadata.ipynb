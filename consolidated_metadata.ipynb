{
 "cells": [
  {
   "cell_type": "markdown",
   "metadata": {},
   "source": [
    "# Consolidating metadata of `zarr` datasets\n",
    "\n",
    "Examples of how to consolidate the metadata of a netCDF4 dataset before and after conversion to `zarr`\n",
    "\n",
    "Author: Charles Blackmon-Luca"
   ]
  },
  {
   "cell_type": "markdown",
   "metadata": {},
   "source": [
    "## Getting started\n",
    "\n",
    "We start by importing the necessary packages:"
   ]
  },
  {
   "cell_type": "code",
   "execution_count": 1,
   "metadata": {},
   "outputs": [],
   "source": [
    "import xarray as xr\n",
    "import zarr"
   ]
  },
  {
   "cell_type": "markdown",
   "metadata": {},
   "source": [
    "Note that we are using developmental versions of `xarray` and `zarr` - this is so we can take advantage of `zarr`'s consolidated metadata:"
   ]
  },
  {
   "cell_type": "code",
   "execution_count": 2,
   "metadata": {},
   "outputs": [
    {
     "name": "stdout",
     "output_type": "stream",
     "text": [
      "0.11.1+64.g612d390\n",
      "2.2.1.dev140\n"
     ]
    }
   ],
   "source": [
    "print(xr.__version__)\n",
    "print(zarr.__version__)"
   ]
  },
  {
   "cell_type": "markdown",
   "metadata": {},
   "source": [
    "We start a `dask` cluster:"
   ]
  },
  {
   "cell_type": "markdown",
   "metadata": {},
   "source": [
    "When `xarray` reads in a `zarr` dataset, it must load in all the metadata immediately. This can introduce a significant overhead cost as the number of variables with metadata increases, and as such `zarr >= 2.3` suuports the consolidation of metadata into a single `.zmetadata` file. This can be done either when converting a dataset to `zarr`:"
   ]
  },
  {
   "cell_type": "code",
   "execution_count": 3,
   "metadata": {},
   "outputs": [
    {
     "data": {
      "text/html": [
       "<table style=\"border: 2px solid white;\">\n",
       "<tr>\n",
       "<td style=\"vertical-align: top; border: 0px solid white\">\n",
       "<h3>Client</h3>\n",
       "<ul>\n",
       "  <li><b>Scheduler: </b>tcp://127.0.0.1:34227\n",
       "  <li><b>Dashboard: </b><a href='http://127.0.0.1:8787/status' target='_blank'>http://127.0.0.1:8787/status</a>\n",
       "</ul>\n",
       "</td>\n",
       "<td style=\"vertical-align: top; border: 0px solid white\">\n",
       "<h3>Cluster</h3>\n",
       "<ul>\n",
       "  <li><b>Workers: </b>4</li>\n",
       "  <li><b>Cores: </b>16</li>\n",
       "  <li><b>Memory: </b>135.44 GB</li>\n",
       "</ul>\n",
       "</td>\n",
       "</tr>\n",
       "</table>"
      ],
      "text/plain": [
       "<Client: scheduler='tcp://127.0.0.1:34227' processes=4 cores=16>"
      ]
     },
     "execution_count": 3,
     "metadata": {},
     "output_type": "execute_result"
    }
   ],
   "source": [
    "from dask.distributed import Client\n",
    "\n",
    "client = Client(\"tcp://127.0.0.1:34227\")\n",
    "client"
   ]
  },
  {
   "cell_type": "code",
   "execution_count": 4,
   "metadata": {},
   "outputs": [
    {
     "name": "stdout",
     "output_type": "stream",
     "text": [
      ".      clt\thfss  plev  ps\t    rlut    rsus     ta    ts\twap\n",
      "..     clw\thur   pr    psl     rlutcs  rsuscs   tas   ua\t.zattrs\n",
      "cl     clwvi\thus   prc   rlds    rsds    rsut     tauu  uas\tzg\n",
      "cli    evspsbl\tlat   prsn  rldscs  rsdscs  rsutcs   tauv  va\t.zgroup\n",
      "clivi  hfls\tlon   prw   rlus    rsdt    sfcWind  time  vas\t.zmetadata\n"
     ]
    }
   ],
   "source": [
    "!rm -rf /data2/tracmip/zarr/test/\n",
    "\n",
    "monthly = xr.open_mfdataset('/data2/tracmip/ECHAM-6.3/LandOrbit/Amon/*.nc').chunk(chunks={'time' : 'auto', 'plev' : 'auto'})\n",
    "monthly.to_zarr('/data2/tracmip/zarr/test/', consolidated=True)\n",
    "\n",
    "!ls -a /data2/tracmip/zarr/test/"
   ]
  },
  {
   "cell_type": "markdown",
   "metadata": {},
   "source": [
    "Or after the fact with a preexisting `zarr` dataset:"
   ]
  },
  {
   "cell_type": "code",
   "execution_count": 5,
   "metadata": {},
   "outputs": [
    {
     "name": "stdout",
     "output_type": "stream",
     "text": [
      ".      clt\thfss  plev  ps\t    rlut    rsus     ta    ts\twap\n",
      "..     clw\thur   pr    psl     rlutcs  rsuscs   tas   ua\t.zattrs\n",
      "cl     clwvi\thus   prc   rlds    rsds    rsut     tauu  uas\tzg\n",
      "cli    evspsbl\tlat   prsn  rldscs  rsdscs  rsutcs   tauv  va\t.zgroup\n",
      "clivi  hfls\tlon   prw   rlus    rsdt    sfcWind  time  vas\t.zmetadata\n"
     ]
    }
   ],
   "source": [
    "!rm -rf /data2/tracmip/zarr/test/\n",
    "\n",
    "monthly.to_zarr('/data2/tracmip/zarr/test/')\n",
    "zarr.consolidate_metadata('/data2/tracmip/zarr/test/')\n",
    "\n",
    "!ls -a /data2/tracmip/zarr/test/"
   ]
  },
  {
   "cell_type": "markdown",
   "metadata": {},
   "source": [
    "In either case, we must handle `zarr` datasets with consolidated metadata differently when opening them. In `xarray`:"
   ]
  },
  {
   "cell_type": "code",
   "execution_count": 6,
   "metadata": {},
   "outputs": [
    {
     "data": {
      "text/plain": [
       "<xarray.Dataset>\n",
       "Dimensions:  (lat: 96, lon: 192, plev: 17, time: 480)\n",
       "Coordinates:\n",
       "  * lat      (lat) float64 88.57 86.72 84.86 83.0 ... -83.0 -84.86 -86.72 -88.57\n",
       "  * lon      (lon) float64 0.0 1.875 3.75 5.625 7.5 ... 352.5 354.4 356.2 358.1\n",
       "  * plev     (plev) float64 1e+05 9.25e+04 8.5e+04 7e+04 ... 3e+03 2e+03 1e+03\n",
       "  * time     (time) datetime64[ns] 2066-01-30T23:52:00 ... 2105-12-30T23:52:00\n",
       "Data variables:\n",
       "    cl       (time, plev, lat, lon) float32 dask.array<shape=(480, 17, 96, 192), chunksize=(160, 10, 96, 192)>\n",
       "    cli      (time, plev, lat, lon) float32 dask.array<shape=(480, 17, 96, 192), chunksize=(160, 10, 96, 192)>\n",
       "    clivi    (time, lat, lon) float32 dask.array<shape=(480, 96, 192), chunksize=(480, 96, 192)>\n",
       "    clt      (time, lat, lon) float32 dask.array<shape=(480, 96, 192), chunksize=(480, 96, 192)>\n",
       "    clw      (time, plev, lat, lon) float32 dask.array<shape=(480, 17, 96, 192), chunksize=(160, 10, 96, 192)>\n",
       "    clwvi    (time, lat, lon) float32 dask.array<shape=(480, 96, 192), chunksize=(480, 96, 192)>\n",
       "    evspsbl  (time, lat, lon) float32 dask.array<shape=(480, 96, 192), chunksize=(480, 96, 192)>\n",
       "    hfls     (time, lat, lon) float32 dask.array<shape=(480, 96, 192), chunksize=(480, 96, 192)>\n",
       "    hfss     (time, lat, lon) float32 dask.array<shape=(480, 96, 192), chunksize=(480, 96, 192)>\n",
       "    hur      (time, plev, lat, lon) float32 dask.array<shape=(480, 17, 96, 192), chunksize=(160, 10, 96, 192)>\n",
       "    hus      (time, plev, lat, lon) float32 dask.array<shape=(480, 17, 96, 192), chunksize=(160, 10, 96, 192)>\n",
       "    pr       (time, lat, lon) float32 dask.array<shape=(480, 96, 192), chunksize=(480, 96, 192)>\n",
       "    prc      (time, lat, lon) float32 dask.array<shape=(480, 96, 192), chunksize=(480, 96, 192)>\n",
       "    prsn     (time, lat, lon) float32 dask.array<shape=(480, 96, 192), chunksize=(480, 96, 192)>\n",
       "    prw      (time, lat, lon) float32 dask.array<shape=(480, 96, 192), chunksize=(480, 96, 192)>\n",
       "    ps       (time, lat, lon) float32 dask.array<shape=(480, 96, 192), chunksize=(480, 96, 192)>\n",
       "    psl      (time, lat, lon) float32 dask.array<shape=(480, 96, 192), chunksize=(480, 96, 192)>\n",
       "    rlds     (time, lat, lon) float32 dask.array<shape=(480, 96, 192), chunksize=(480, 96, 192)>\n",
       "    rldscs   (time, lat, lon) float32 dask.array<shape=(480, 96, 192), chunksize=(480, 96, 192)>\n",
       "    rlus     (time, lat, lon) float32 dask.array<shape=(480, 96, 192), chunksize=(480, 96, 192)>\n",
       "    rlut     (time, lat, lon) float32 dask.array<shape=(480, 96, 192), chunksize=(480, 96, 192)>\n",
       "    rlutcs   (time, lat, lon) float32 dask.array<shape=(480, 96, 192), chunksize=(480, 96, 192)>\n",
       "    rsds     (time, lat, lon) float32 dask.array<shape=(480, 96, 192), chunksize=(480, 96, 192)>\n",
       "    rsdscs   (time, lat, lon) float32 dask.array<shape=(480, 96, 192), chunksize=(480, 96, 192)>\n",
       "    rsdt     (time, lat, lon) float32 dask.array<shape=(480, 96, 192), chunksize=(480, 96, 192)>\n",
       "    rsus     (time, lat, lon) float32 dask.array<shape=(480, 96, 192), chunksize=(480, 96, 192)>\n",
       "    rsuscs   (time, lat, lon) float32 dask.array<shape=(480, 96, 192), chunksize=(480, 96, 192)>\n",
       "    rsut     (time, lat, lon) float32 dask.array<shape=(480, 96, 192), chunksize=(480, 96, 192)>\n",
       "    rsutcs   (time, lat, lon) float32 dask.array<shape=(480, 96, 192), chunksize=(480, 96, 192)>\n",
       "    sfcWind  (time, lat, lon) float32 dask.array<shape=(480, 96, 192), chunksize=(480, 96, 192)>\n",
       "    ta       (time, plev, lat, lon) float32 dask.array<shape=(480, 17, 96, 192), chunksize=(160, 10, 96, 192)>\n",
       "    tas      (time, lat, lon) float32 dask.array<shape=(480, 96, 192), chunksize=(480, 96, 192)>\n",
       "    tauu     (time, lat, lon) float32 dask.array<shape=(480, 96, 192), chunksize=(480, 96, 192)>\n",
       "    tauv     (time, lat, lon) float32 dask.array<shape=(480, 96, 192), chunksize=(480, 96, 192)>\n",
       "    ts       (time, lat, lon) float32 dask.array<shape=(480, 96, 192), chunksize=(480, 96, 192)>\n",
       "    ua       (time, plev, lat, lon) float32 dask.array<shape=(480, 17, 96, 192), chunksize=(160, 10, 96, 192)>\n",
       "    uas      (time, lat, lon) float32 dask.array<shape=(480, 96, 192), chunksize=(480, 96, 192)>\n",
       "    va       (time, plev, lat, lon) float32 dask.array<shape=(480, 17, 96, 192), chunksize=(160, 10, 96, 192)>\n",
       "    vas      (time, lat, lon) float32 dask.array<shape=(480, 96, 192), chunksize=(480, 96, 192)>\n",
       "    wap      (time, plev, lat, lon) float32 dask.array<shape=(480, 17, 96, 192), chunksize=(160, 10, 96, 192)>\n",
       "    zg       (time, plev, lat, lon) float32 dask.array<shape=(480, 17, 96, 192), chunksize=(160, 10, 96, 192)>\n",
       "Attributes:\n",
       "    CDI:          Climate Data Interface version 1.7.0 (http://mpimet.mpg.de/...\n",
       "    CDO:          Climate Data Operators version 1.7.0 (http://mpimet.mpg.de/...\n",
       "    Conventions:  CF-1.4\n",
       "    history:      Wed Dec  2 00:07:04 2015: ncrename -d lev,plev -v lev,plev ...\n",
       "    institution:  Max-Planck-Institute for Meteorology\n",
       "    source:       ECHAM6"
      ]
     },
     "execution_count": 6,
     "metadata": {},
     "output_type": "execute_result"
    }
   ],
   "source": [
    "xr.open_zarr('/data2/tracmip/zarr/test/', consolidated=True)"
   ]
  },
  {
   "cell_type": "markdown",
   "metadata": {},
   "source": [
    "And in `zarr`:"
   ]
  },
  {
   "cell_type": "code",
   "execution_count": 7,
   "metadata": {},
   "outputs": [
    {
     "data": {
      "text/html": [
       "<table class=\"zarr-info\"><tbody><tr><th style=\"text-align: left\">Name</th><td style=\"text-align: left\">/</td></tr><tr><th style=\"text-align: left\">Type</th><td style=\"text-align: left\">zarr.hierarchy.Group</td></tr><tr><th style=\"text-align: left\">Read-only</th><td style=\"text-align: left\">False</td></tr><tr><th style=\"text-align: left\">Store type</th><td style=\"text-align: left\">zarr.storage.ConsolidatedMetadataStore</td></tr><tr><th style=\"text-align: left\">Chunk store type</th><td style=\"text-align: left\">zarr.storage.DirectoryStore</td></tr><tr><th style=\"text-align: left\">No. members</th><td style=\"text-align: left\">45</td></tr><tr><th style=\"text-align: left\">No. arrays</th><td style=\"text-align: left\">45</td></tr><tr><th style=\"text-align: left\">No. groups</th><td style=\"text-align: left\">0</td></tr><tr><th style=\"text-align: left\">Arrays</th><td style=\"text-align: left\">cl, cli, clivi, clt, clw, clwvi, evspsbl, hfls, hfss, hur, hus, lat, lon, plev, pr, prc, prsn, prw, ps, psl, rlds, rldscs, rlus, rlut, rlutcs, rsds, rsdscs, rsdt, rsus, rsuscs, rsut, rsutcs, sfcWind, ta, tas, tauu, tauv, time, ts, ua, uas, va, vas, wap, zg</td></tr></tbody></table>"
      ],
      "text/plain": [
       "Name             : /\n",
       "Type             : zarr.hierarchy.Group\n",
       "Read-only        : False\n",
       "Store type       : zarr.storage.ConsolidatedMetadataStore\n",
       "Chunk store type : zarr.storage.DirectoryStore\n",
       "No. members      : 45\n",
       "No. arrays       : 45\n",
       "No. groups       : 0\n",
       "Arrays           : cl, cli, clivi, clt, clw, clwvi, evspsbl, hfls, hfss, hur,\n",
       "                 : hus, lat, lon, plev, pr, prc, prsn, prw, ps, psl, rlds,\n",
       "                 : rldscs, rlus, rlut, rlutcs, rsds, rsdscs, rsdt, rsus, rsuscs,\n",
       "                 : rsut, rsutcs, sfcWind, ta, tas, tauu, tauv, time, ts, ua,\n",
       "                 : uas, va, vas, wap, zg"
      ]
     },
     "execution_count": 7,
     "metadata": {},
     "output_type": "execute_result"
    }
   ],
   "source": [
    "zarr.open_consolidated('/data2/tracmip/zarr/test/').info"
   ]
  },
  {
   "cell_type": "markdown",
   "metadata": {},
   "source": [
    "Consolidated metadata improves the overall performance of `zarr` datasets, especially in cloud-based environments, and thus it is reccommended to make sure `zarr` metadata is consolidated before uploading data to Pangeo."
   ]
  }
 ],
 "metadata": {
  "kernelspec": {
   "display_name": "Python 3",
   "language": "python",
   "name": "python3"
  },
  "language_info": {
   "codemirror_mode": {
    "name": "ipython",
    "version": 3
   },
   "file_extension": ".py",
   "mimetype": "text/x-python",
   "name": "python",
   "nbconvert_exporter": "python",
   "pygments_lexer": "ipython3",
   "version": "3.7.2"
  }
 },
 "nbformat": 4,
 "nbformat_minor": 2
}
